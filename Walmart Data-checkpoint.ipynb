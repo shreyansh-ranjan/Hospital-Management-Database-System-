{
 "cells": [
  {
   "cell_type": "code",
   "execution_count": null,
   "id": "b81ba3ec-71b0-4d6e-aab2-615c816e591c",
   "metadata": {},
   "outputs": [],
   "source": [
    "import pandas as pd\n",
    "from sqlalchemy import create_engine\n",
    "import sqlite \n",
    "import pyodbc\n"
   ]
  },
  {
   "cell_type": "code",
   "execution_count": null,
   "id": "71751bbd-2f81-416a-ad2a-4aaf3a10e4e9",
   "metadata": {},
   "outputs": [],
   "source": [
    "df = pd.read_csv('Walmart.csv')\n",
    "\n",
    "# Create a connection to the database\n",
    "engine = create_engine('sqlite:///anand.db')  # Example for SQLite\n",
    "\n",
    "# Write the DataFrame to SQL table\n",
    "df.to_sql('walmart', con=engine, if_exists='replace', index=False)\n",
    "\n",
    "# Query the table to verify\n",
    "with engine.connect() as connection:\n",
    "    result = connection.execute(\"SELECT * FROM anand\").fetchall()\n",
    "    for row in result:\n",
    "        print(row)"
   ]
  },
  {
   "cell_type": "code",
   "execution_count": null,
   "id": "6c8f3ad8-6400-473c-9dd9-da69ddad06dd",
   "metadata": {},
   "outputs": [],
   "source": [
    "\n",
    "\n",
    "# conn = pyodbc.connect(\n",
    "#     \"Driver={SQL Server};\"\n",
    "#     \"Server=RON-SQLEXPRESS;\"\n",
    "#     \"Database=test_database;\"\n",
    "#     \"Trusted_Connection=yes;\"\n",
    "# )\n",
    "# cursor = conn.cursor()"
   ]
  },
  {
   "cell_type": "code",
   "execution_count": null,
   "id": "dee42cd1-f575-48c5-825c-5faa009b3e03",
   "metadata": {},
   "outputs": [],
   "source": []
  }
 ],
 "metadata": {
  "kernelspec": {
   "display_name": "Python 3 (ipykernel)",
   "language": "python",
   "name": "python3"
  },
  "language_info": {
   "codemirror_mode": {
    "name": "ipython",
    "version": 3
   },
   "file_extension": ".py",
   "mimetype": "text/x-python",
   "name": "python",
   "nbconvert_exporter": "python",
   "pygments_lexer": "ipython3",
   "version": "3.10.13"
  }
 },
 "nbformat": 4,
 "nbformat_minor": 5
}
