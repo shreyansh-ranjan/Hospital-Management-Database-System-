{
 "cells": [
  {
   "cell_type": "code",
   "execution_count": 5,
   "id": "b81ba3ec-71b0-4d6e-aab2-615c816e591c",
   "metadata": {},
   "outputs": [],
   "source": [
    "import pandas as pd"
   ]
  },
  {
   "cell_type": "code",
   "execution_count": 6,
   "id": "f03fc45f-a494-4570-8203-4068bfe6eb69",
   "metadata": {},
   "outputs": [],
   "source": [
    "import pymysql\n",
    "import csv \n",
    "import mysql.connector"
   ]
  },
  {
   "cell_type": "code",
   "execution_count": 48,
   "id": "488bdebc-32c1-48d8-b622-7ebb45506f6c",
   "metadata": {},
   "outputs": [],
   "source": [
    "from __future__ import print_function\n",
    "\n",
    "localhost = \"localhost\"\n",
    "\n",
    "yourusername = \"root\"\n",
    "\n",
    "yourpassword = \"12345678\"\n",
    "\n",
    "yourdbname = \"medical\"\n",
    "\n",
    "connection = mysql.connector.connect( host=localhost, user=yourusername, passwd=yourpassword, db=yourdbname )\n",
    "\n",
    "\n",
    "cursor = connection.cursor()\n"
   ]
  },
  {
   "cell_type": "code",
   "execution_count": 38,
   "id": "b3b10b79-fdd9-40b3-b0f7-fa72860f704e",
   "metadata": {},
   "outputs": [],
   "source": [
    "def add_doctors(doc_id, first_name, last_name, office_no, dep_id):\n",
    "    query = \"INSERT INTO Doctors (doc_id, first_name, last_name, office_no, dep_id) VALUES (%s, %s, %s, %s, %s)\"\n",
    "    cursor.execute(query, (doc_id, first_name, last_name, office_no, dep_id))\n",
    "    connection.commit()\n"
   ]
  },
  {
   "cell_type": "code",
   "execution_count": 51,
   "id": "98d92c3b-4319-4107-b257-217db535bc3b",
   "metadata": {},
   "outputs": [],
   "source": [
    "def add_pat(patient_id,first_name,last_name,DOB,gender,phone,email,doc_id,height,weight,bloodgroup,createdon,add1,add2,city,state,pin_code):\n",
    "    query = \"INSERT INTO Patient (patient_id, first_name, last_name, DOB, gender, phone, email, doc_id) VALUES (%s, %s, %s, %s, %s, %s, %s, %s)\"\n",
    "    cursor.execute(query, (patient_id, first_name, last_name, DOB, gender, phone, email, doc_id))\n",
    "    query = \"INSERT INTO Records (patient_id, first_name, last_name,height,weight,bloodgroup,createdon) VALUES (%s, %s, %s, %s, %s, %s, %s)\"\n",
    "    cursor.execute(query, (patient_id, first_name, last_name, height,weight,bloodgroup,createdon))\n",
    "    query = \"INSERT INTO Address (patient_id, first_name, last_name,add1,add2,city,state,pin_code) VALUES (%s, %s, %s, %s, %s, %s, %s, %s)\"\n",
    "    cursor.execute(query, (patient_id, first_name, last_name, add1,add2,city,state,pin_code))\n",
    "    connection.commit()\n",
    "    # rows = cursor.fetchall()\n",
    "    # print(rows)"
   ]
  },
  {
   "cell_type": "code",
   "execution_count": 65,
   "id": "999351c3-ccd2-4eea-8166-82fe62e52752",
   "metadata": {},
   "outputs": [
    {
     "name": "stdin",
     "output_type": "stream",
     "text": [
      "1.Add More Doctors: \n",
      "2.Exit: \n",
      " 2\n"
     ]
    }
   ],
   "source": [
    "# Add doctors to Departments\n",
    "while(1):\n",
    "    x = int(input(\"1.Add More Doctors: \\n2.Exit: \\n\"))\n",
    "    if(x == 1):\n",
    "        doc_id = (input(\"Doctor ID: \"))\n",
    "        first_name = (input(\"First Name: \"))\n",
    "        last_name = (input(\"Last Name: \"))\n",
    "        office_no = (input(\"Office No: \"))\n",
    "        dep_id = (input(\"Department ID: \"))\n",
    "        add_doctors(doc_id,first_name,last_name,office_no,dep_id)\n",
    "    else:\n",
    "        break\n",
    "        "
   ]
  },
  {
   "cell_type": "code",
   "execution_count": 66,
   "id": "6d45cb6e-73be-48f3-8ebf-a3c262f10cd6",
   "metadata": {},
   "outputs": [
    {
     "name": "stdin",
     "output_type": "stream",
     "text": [
      "1.Add More Patients: \n",
      "2.Exit: \n",
      " 2\n"
     ]
    }
   ],
   "source": [
    "# Add patients to Departments\n",
    "while(1):\n",
    "    x = int(input(\"1.Add More Patients: \\n2.Exit: \\n\"))\n",
    "    if(x == 1):\n",
    "        patient_id = (input(\"Patient ID: \"))\n",
    "        first_name = (input(\"First Name: \"))\n",
    "        last_name = (input(\"Last Name: \"))\n",
    "        DOB = (input(\"Date of Birth (YYYY-MM-DD): \"))\n",
    "        gender = (input(\"Gender: \"))\n",
    "        phone = (input(\"Phone Number: \"))\n",
    "        email = (input(\"Email ID: \"))\n",
    "        doc_id = (input(\"Assigned Doctor ID: \"))\n",
    "        height = (input(\"Patient's Height in cm: \"))\n",
    "        weight = (input(\"Patient's Weight in Kg: \"))\n",
    "        bloodgroup = (input(\"Patients Blood Group: \"))\n",
    "        createdon = (input(\"Account Created On (YYYY-MM-DD): \"))\n",
    "        add1 = (input(\"Address Line 1: \"))\n",
    "        add2 = (input(\"Address Line 2: \"))\n",
    "        city = (input(\"City: \"))\n",
    "        state = (input(\"State: \"))\n",
    "        pin_code = (input(\"Pin Code: \"))\n",
    "        add_pat(patient_id,first_name,last_name,DOB,gender,phone,email,doc_id,height,weight,bloodgroup,createdon,add1,add2,city,state,pin_code)\n",
    "    else:\n",
    "        break\n",
    "        "
   ]
  },
  {
   "cell_type": "code",
   "execution_count": 67,
   "id": "4e5edef1-427a-4f08-b17e-dec1813a1e5e",
   "metadata": {},
   "outputs": [
    {
     "name": "stdin",
     "output_type": "stream",
     "text": [
      "Enter Patient ID\n",
      " or -1 for Exit\n",
      " -1\n"
     ]
    }
   ],
   "source": [
    "# Query to get info on Patients\n",
    "while(1):\n",
    "    id = int(input(\"Enter Patient ID\\n or -1 for Exit\\n\"))\n",
    "    if(id == -1):\n",
    "        break\n",
    "    x = int(input(\"1.Know basic Patient details: \\n2.Medical Records \\n3. Address: \\n4.Exit\\n\"))\n",
    "    if(x == 1):\n",
    "        query = f\"SELECT * FROM Patient WHERE patient_id = {id};\"\n",
    "        cursor.execute(query)\n",
    "        rows = cursor.fetchall()\n",
    "        print(rows)\n",
    "    elif(x == 2):\n",
    "        query = f\"SELECT * FROM Records WHERE patient_id = {id};\"\n",
    "        cursor.execute(query)\n",
    "        rows = cursor.fetchall()\n",
    "        print(rows)\n",
    "    elif(x == 3):\n",
    "        query = f\"SELECT * FROM Address WHERE patient_id = {id};\"\n",
    "        cursor.execute(query)\n",
    "        rows = cursor.fetchall()\n",
    "        print(rows)\n",
    "    else:\n",
    "        break\n",
    "        "
   ]
  },
  {
   "cell_type": "code",
   "execution_count": 70,
   "id": "6edddfeb-b71f-4da0-ac3b-d2d4f462b8e8",
   "metadata": {},
   "outputs": [
    {
     "name": "stdout",
     "output_type": "stream",
     "text": [
      "[('Prabha',), ('Rhut',)]\n"
     ]
    }
   ],
   "source": [
    "#Analysis\n",
    "\n",
    "\n",
    "query = \"SELECT first_name FROM Records WHERE weight>=80;\"\n",
    "cursor.execute(query)\n",
    "rows = cursor.fetchall()\n",
    "print(rows)"
   ]
  },
  {
   "cell_type": "code",
   "execution_count": null,
   "id": "a73207c3-dcd2-44e1-bc9d-71c60e3fa0e1",
   "metadata": {},
   "outputs": [],
   "source": [
    "\n",
    "connection.close()"
   ]
  }
 ],
 "metadata": {
  "kernelspec": {
   "display_name": "Python 3 (ipykernel)",
   "language": "python",
   "name": "python3"
  },
  "language_info": {
   "codemirror_mode": {
    "name": "ipython",
    "version": 3
   },
   "file_extension": ".py",
   "mimetype": "text/x-python",
   "name": "python",
   "nbconvert_exporter": "python",
   "pygments_lexer": "ipython3",
   "version": "3.8.19"
  }
 },
 "nbformat": 4,
 "nbformat_minor": 5
}
